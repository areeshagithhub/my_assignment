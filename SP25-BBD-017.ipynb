{
 "cells": [
  {
   "cell_type": "code",
   "execution_count": 8,
   "id": "b1a7804c-ee46-4484-9a2b-6a7f14b491c6",
   "metadata": {},
   "outputs": [
    {
     "name": "stdout",
     "output_type": "stream",
     "text": [
      "alien\n",
      "argo\n",
      "avatar\n"
     ]
    }
   ],
   "source": [
    "# create a list of favourite movies.\n",
    "movies=['alien','argo','avatar']\n",
    "for movie in movies:\n",
    "  print(movie)"
   ]
  },
  {
   "cell_type": "code",
   "execution_count": 10,
   "id": "fef9ac02-ca8c-4904-855d-52b400b7fb96",
   "metadata": {},
   "outputs": [
    {
     "name": "stdout",
     "output_type": "stream",
     "text": [
      "alien\n",
      "argo\n",
      "avatar\n"
     ]
    }
   ],
   "source": [
    "#iterate over the list and printeach movie title \n",
    "movies=['alien','argo','avatar']\n",
    "for movie in movies:\n",
    "    print(movie)"
   ]
  },
  {
   "cell_type": "code",
   "execution_count": 12,
   "id": "83f0035d-647b-4941-a98e-ad55689f9c86",
   "metadata": {},
   "outputs": [
    {
     "name": "stdout",
     "output_type": "stream",
     "text": [
      "My name is arisha riaz.\n"
     ]
    }
   ],
   "source": [
    "#create a string variable containing your full name.\n",
    "first_name='arisha'\n",
    "last_name='riaz'\n",
    "full_name='arisha riaz'\n",
    "message=f'My name is {full_name}.'\n",
    "print(message)\n"
   ]
  },
  {
   "cell_type": "code",
   "execution_count": 14,
   "id": "3f936b25-0a88-40b9-afb2-f60a201b2348",
   "metadata": {},
   "outputs": [
    {
     "name": "stdout",
     "output_type": "stream",
     "text": [
      "a\n",
      "r\n",
      "i\n",
      "s\n",
      "h\n",
      "a\n"
     ]
    }
   ],
   "source": [
    "#iterate over the string and print each character on a new line.\n",
    "name='arisha'\n",
    "for char in name:\n",
    "    print(char)"
   ]
  },
  {
   "cell_type": "code",
   "execution_count": 16,
   "id": "b2f80814-721e-4677-b1b2-7e2b88daa86b",
   "metadata": {},
   "outputs": [
    {
     "name": "stdout",
     "output_type": "stream",
     "text": [
      "0 inception\n",
      "1 argo\n",
      "2 avatar\n"
     ]
    }
   ],
   "source": [
    "#modify the loop to print the index of each movie along with its title.\n",
    "movies=['inception','argo','avatar']\n",
    "for i in range(len(movies)):\n",
    "    print(i,movies[i])"
   ]
  },
  {
   "cell_type": "code",
   "execution_count": 26,
   "id": "a39d70ff-471b-4b8d-bc15-65aa70d534ef",
   "metadata": {},
   "outputs": [
    {
     "ename": "SyntaxError",
     "evalue": "invalid syntax. Maybe you meant '==' or ':=' instead of '='? (1071071208.py, line 3)",
     "output_type": "error",
     "traceback": [
      "\u001b[0;36m  Cell \u001b[0;32mIn[26], line 3\u001b[0;36m\u001b[0m\n\u001b[0;31m    print('number of vowels:',(count=text))\u001b[0m\n\u001b[0m                               ^\u001b[0m\n\u001b[0;31mSyntaxError\u001b[0m\u001b[0;31m:\u001b[0m invalid syntax. Maybe you meant '==' or ':=' instead of '='?\n"
     ]
    }
   ],
   "source": [
    "# count the number of vowels in the string."
   ]
  },
  {
   "cell_type": "code",
   "execution_count": null,
   "id": "2e3ce390-967b-47cf-a1e2-fa4f3eedf8e7",
   "metadata": {},
   "outputs": [],
   "source": []
  }
 ],
 "metadata": {
  "kernelspec": {
   "display_name": "Python [conda env:base] *",
   "language": "python",
   "name": "conda-base-py"
  },
  "language_info": {
   "codemirror_mode": {
    "name": "ipython",
    "version": 3
   },
   "file_extension": ".py",
   "mimetype": "text/x-python",
   "name": "python",
   "nbconvert_exporter": "python",
   "pygments_lexer": "ipython3",
   "version": "3.11.5"
  }
 },
 "nbformat": 4,
 "nbformat_minor": 5
}
